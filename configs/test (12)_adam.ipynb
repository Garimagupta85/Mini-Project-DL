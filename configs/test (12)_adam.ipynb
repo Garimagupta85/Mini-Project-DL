{
  "cells": [
    {
      "cell_type": "code",
      "execution_count": null,
      "id": "ee83389f-a9b3-4864-a82d-e657fcdfccea",
      "metadata": {
        "id": "ee83389f-a9b3-4864-a82d-e657fcdfccea",
        "outputId": "5ce32e66-9139-4ee1-d083-51ebe550dcb2"
      },
      "outputs": [
        {
          "name": "stdout",
          "output_type": "stream",
          "text": [
            "/home/studio-lab-user/sagemaker-studiolab-notebooks\n"
          ]
        }
      ],
      "source": [
        "!pwd"
      ]
    },
    {
      "cell_type": "code",
      "execution_count": null,
      "id": "51d931f3-2a00-4d16-822c-65dcca2492a2",
      "metadata": {
        "id": "51d931f3-2a00-4d16-822c-65dcca2492a2",
        "outputId": "8cf0cff0-8cd5-4418-8619-c8e59f288e3a"
      },
      "outputs": [
        {
          "name": "stdout",
          "output_type": "stream",
          "text": [
            "'Getting Started.ipynb'        model0.5832674050632911.pth\n",
            "'Untitled Folder'\t       model0.6991693037974683.pth\n",
            " __pycache__\t\t       model0.7150909810126582.pth\n",
            " checkpoint\t\t       model0.7544501582278481.pth\n",
            " data\t\t\t       model0.7929193037974683.pth\n",
            " dataset.py\t\t       new-workspace.jupyterlab-workspace\n",
            " images\t\t\t       runs\n",
            " model.py\t\t       test.ipynb\n",
            " model.txt\t\t       train.py\n",
            " model0.5375791139240507.pth   utils.py\n",
            " model0.5387658227848101.pth   vis.py\n"
          ]
        }
      ],
      "source": [
        "!ls"
      ]
    },
    {
      "cell_type": "code",
      "execution_count": null,
      "id": "15c317c6-2f13-484c-990d-0e785c7ff542",
      "metadata": {
        "id": "15c317c6-2f13-484c-990d-0e785c7ff542",
        "outputId": "fa7f440d-69b5-49bb-cc78-ed9b5080b983"
      },
      "outputs": [
        {
          "name": "stdout",
          "output_type": "stream",
          "text": [
            "Python 3.9.13\n"
          ]
        }
      ],
      "source": [
        "!python --version"
      ]
    },
    {
      "cell_type": "code",
      "execution_count": null,
      "id": "d473436e-81e6-43e0-a927-828bcdb6ad2b",
      "metadata": {
        "id": "d473436e-81e6-43e0-a927-828bcdb6ad2b",
        "outputId": "c8c56316-782c-4bbd-be0b-048a060c838c"
      },
      "outputs": [
        {
          "name": "stdout",
          "output_type": "stream",
          "text": [
            "Requirement already satisfied: torch in /home/studio-lab-user/.conda/envs/default/lib/python3.9/site-packages (1.13.0)\n",
            "Requirement already satisfied: nvidia-cuda-nvrtc-cu11==11.7.99 in /home/studio-lab-user/.conda/envs/default/lib/python3.9/site-packages (from torch) (11.7.99)\n",
            "Requirement already satisfied: typing-extensions in /home/studio-lab-user/.conda/envs/default/lib/python3.9/site-packages (from torch) (4.4.0)\n",
            "Requirement already satisfied: nvidia-cublas-cu11==11.10.3.66 in /home/studio-lab-user/.conda/envs/default/lib/python3.9/site-packages (from torch) (11.10.3.66)\n",
            "Requirement already satisfied: nvidia-cuda-runtime-cu11==11.7.99 in /home/studio-lab-user/.conda/envs/default/lib/python3.9/site-packages (from torch) (11.7.99)\n",
            "Requirement already satisfied: nvidia-cudnn-cu11==8.5.0.96 in /home/studio-lab-user/.conda/envs/default/lib/python3.9/site-packages (from torch) (8.5.0.96)\n",
            "Requirement already satisfied: setuptools in /home/studio-lab-user/.conda/envs/default/lib/python3.9/site-packages (from nvidia-cublas-cu11==11.10.3.66->torch) (65.5.0)\n",
            "Requirement already satisfied: wheel in /home/studio-lab-user/.conda/envs/default/lib/python3.9/site-packages (from nvidia-cublas-cu11==11.10.3.66->torch) (0.37.1)\n"
          ]
        }
      ],
      "source": [
        "!pip install torch"
      ]
    },
    {
      "cell_type": "code",
      "execution_count": null,
      "id": "7ace70f8-a75d-47b4-bb0b-3ad2def6fd31",
      "metadata": {
        "id": "7ace70f8-a75d-47b4-bb0b-3ad2def6fd31",
        "outputId": "72880679-53f5-4470-b140-d7ec720c63d0"
      },
      "outputs": [
        {
          "name": "stdout",
          "output_type": "stream",
          "text": [
            "Requirement already satisfied: torchvision in /home/studio-lab-user/.conda/envs/default/lib/python3.9/site-packages (0.14.0)\n",
            "Requirement already satisfied: torch==1.13.0 in /home/studio-lab-user/.conda/envs/default/lib/python3.9/site-packages (from torchvision) (1.13.0)\n",
            "Requirement already satisfied: pillow!=8.3.*,>=5.3.0 in /home/studio-lab-user/.conda/envs/default/lib/python3.9/site-packages (from torchvision) (9.3.0)\n",
            "Requirement already satisfied: requests in /home/studio-lab-user/.conda/envs/default/lib/python3.9/site-packages (from torchvision) (2.28.1)\n",
            "Requirement already satisfied: typing-extensions in /home/studio-lab-user/.conda/envs/default/lib/python3.9/site-packages (from torchvision) (4.4.0)\n",
            "Requirement already satisfied: numpy in /home/studio-lab-user/.conda/envs/default/lib/python3.9/site-packages (from torchvision) (1.23.4)\n",
            "Requirement already satisfied: nvidia-cudnn-cu11==8.5.0.96 in /home/studio-lab-user/.conda/envs/default/lib/python3.9/site-packages (from torch==1.13.0->torchvision) (8.5.0.96)\n",
            "Requirement already satisfied: nvidia-cuda-runtime-cu11==11.7.99 in /home/studio-lab-user/.conda/envs/default/lib/python3.9/site-packages (from torch==1.13.0->torchvision) (11.7.99)\n",
            "Requirement already satisfied: nvidia-cuda-nvrtc-cu11==11.7.99 in /home/studio-lab-user/.conda/envs/default/lib/python3.9/site-packages (from torch==1.13.0->torchvision) (11.7.99)\n",
            "Requirement already satisfied: nvidia-cublas-cu11==11.10.3.66 in /home/studio-lab-user/.conda/envs/default/lib/python3.9/site-packages (from torch==1.13.0->torchvision) (11.10.3.66)\n",
            "Requirement already satisfied: wheel in /home/studio-lab-user/.conda/envs/default/lib/python3.9/site-packages (from nvidia-cublas-cu11==11.10.3.66->torch==1.13.0->torchvision) (0.37.1)\n",
            "Requirement already satisfied: setuptools in /home/studio-lab-user/.conda/envs/default/lib/python3.9/site-packages (from nvidia-cublas-cu11==11.10.3.66->torch==1.13.0->torchvision) (65.5.0)\n",
            "Requirement already satisfied: urllib3<1.27,>=1.21.1 in /home/studio-lab-user/.conda/envs/default/lib/python3.9/site-packages (from requests->torchvision) (1.26.12)\n",
            "Requirement already satisfied: idna<4,>=2.5 in /home/studio-lab-user/.conda/envs/default/lib/python3.9/site-packages (from requests->torchvision) (3.4)\n",
            "Requirement already satisfied: certifi>=2017.4.17 in /home/studio-lab-user/.conda/envs/default/lib/python3.9/site-packages (from requests->torchvision) (2022.9.24)\n",
            "Requirement already satisfied: charset-normalizer<3,>=2 in /home/studio-lab-user/.conda/envs/default/lib/python3.9/site-packages (from requests->torchvision) (2.1.1)\n"
          ]
        }
      ],
      "source": [
        "!pip install torchvision"
      ]
    },
    {
      "cell_type": "code",
      "execution_count": null,
      "id": "ab4a5f4c-8c99-4d39-a042-781a254d4db9",
      "metadata": {
        "id": "ab4a5f4c-8c99-4d39-a042-781a254d4db9"
      },
      "outputs": [],
      "source": [
        "import torch\n",
        "import torch.nn as nn\n",
        "import torch.optim as optim\n",
        "import torch.nn.functional as F\n",
        "import torch.backends.cudnn as cudnn\n",
        "\n",
        "import torchvision\n",
        "import torchvision.transforms as transforms\n",
        "\n",
        "import os\n",
        "import argparse"
      ]
    },
    {
      "cell_type": "code",
      "execution_count": null,
      "id": "45a66186-de75-4999-bd6c-44495ae9bcaa",
      "metadata": {
        "id": "45a66186-de75-4999-bd6c-44495ae9bcaa"
      },
      "outputs": [],
      "source": [
        "import torch.utils.data as data"
      ]
    },
    {
      "cell_type": "code",
      "execution_count": null,
      "id": "ed650fde-34c5-4b22-9dda-8980b42bf29d",
      "metadata": {
        "id": "ed650fde-34c5-4b22-9dda-8980b42bf29d"
      },
      "outputs": [],
      "source": [
        "import time\n",
        "import sys"
      ]
    },
    {
      "cell_type": "code",
      "execution_count": null,
      "id": "8c12b5c0-fa20-4234-883c-3d95f6c94ad1",
      "metadata": {
        "id": "8c12b5c0-fa20-4234-883c-3d95f6c94ad1"
      },
      "outputs": [],
      "source": [
        "import os\n",
        "import os\n",
        "import sys\n",
        "import time\n",
        "import math\n",
        "\n",
        "import torch.nn as nn\n",
        "import torch.nn.init as init\n",
        "#_, term_width = os.popen('stty size', 'r').read().split()\n",
        "#term_width = int(term_width)"
      ]
    },
    {
      "cell_type": "code",
      "execution_count": null,
      "id": "e61711b0-b777-4a4b-ae45-7122cdedebf3",
      "metadata": {
        "id": "e61711b0-b777-4a4b-ae45-7122cdedebf3"
      },
      "outputs": [],
      "source": [
        "def format_time(seconds):\n",
        "    days = int(seconds / 3600/24)\n",
        "    seconds = seconds - days*3600*24\n",
        "    hours = int(seconds / 3600)\n",
        "    seconds = seconds - hours*3600\n",
        "    minutes = int(seconds / 60)\n",
        "    seconds = seconds - minutes*60\n",
        "    secondsf = int(seconds)\n",
        "    seconds = seconds - secondsf\n",
        "    millis = int(seconds*1000)\n",
        "\n",
        "    f = ''\n",
        "    i = 1\n",
        "    if days > 0:\n",
        "        f += str(days) + 'D'\n",
        "        i += 1\n",
        "    if hours > 0 and i <= 2:\n",
        "        f += str(hours) + 'h'\n",
        "        i += 1\n",
        "    if minutes > 0 and i <= 2:\n",
        "        f += str(minutes) + 'm'\n",
        "        i += 1\n",
        "    if secondsf > 0 and i <= 2:\n",
        "        f += str(secondsf) + 's'\n",
        "        i += 1\n",
        "    if millis > 0 and i <= 2:\n",
        "        f += str(millis) + 'ms'\n",
        "        i += 1\n",
        "    if f == '':\n",
        "        f = '0ms'\n",
        "    return f"
      ]
    },
    {
      "cell_type": "code",
      "execution_count": null,
      "id": "47534613-4523-4906-b70d-dc4358fbd305",
      "metadata": {
        "id": "47534613-4523-4906-b70d-dc4358fbd305"
      },
      "outputs": [],
      "source": [
        "#from utils import progress_bar\n",
        "\n",
        "TOTAL_BAR_LENGTH = 65.\n",
        "last_time = time.time()\n",
        "begin_time = last_time\n",
        "def progress_bar(current, total, msg=None):\n",
        "    global last_time, begin_time\n",
        "    if current == 0:\n",
        "        begin_time = time.time()  # Reset for new bar.\n",
        "\n",
        "    cur_len = int(TOTAL_BAR_LENGTH*current/total)\n",
        "    rest_len = int(TOTAL_BAR_LENGTH - cur_len) - 1\n",
        "\n",
        "    sys.stdout.write(' [')\n",
        "    for i in range(cur_len):\n",
        "        sys.stdout.write('=')\n",
        "    sys.stdout.write('>')\n",
        "    for i in range(rest_len):\n",
        "        sys.stdout.write('.')\n",
        "    sys.stdout.write(']')\n",
        "\n",
        "    cur_time = time.time()\n",
        "    step_time = cur_time - last_time\n",
        "    last_time = cur_time\n",
        "    tot_time = cur_time - begin_time\n",
        "\n",
        "    L = []\n",
        "    L.append('  Step: %s' % format_time(step_time))\n",
        "    L.append(' | Tot: %s' % format_time(tot_time))\n",
        "    if msg:\n",
        "        L.append(' | ' + msg)\n",
        "\n",
        "    msg = ''.join(L)\n",
        "    sys.stdout.write(msg)\n",
        "    for i in range(term_width-int(TOTAL_BAR_LENGTH)-len(msg)-3):\n",
        "        sys.stdout.write(' ')\n",
        "\n",
        "    # Go back to the center of the bar.\n",
        "    for i in range(term_width-int(TOTAL_BAR_LENGTH/2)+2):\n",
        "        sys.stdout.write('\\b')\n",
        "    sys.stdout.write(' %d/%d ' % (current+1, total))\n",
        "\n",
        "    if current < total-1:\n",
        "        sys.stdout.write('\\r')\n",
        "    else:\n",
        "        sys.stdout.write('\\n')\n",
        "    sys.stdout.flush()"
      ]
    },
    {
      "cell_type": "code",
      "execution_count": null,
      "id": "0be2910c-4a57-4dc3-8a92-8f27eb0a7361",
      "metadata": {
        "id": "0be2910c-4a57-4dc3-8a92-8f27eb0a7361"
      },
      "outputs": [],
      "source": [
        "device = 'cuda' if torch.cuda.is_available() else 'cpu'"
      ]
    },
    {
      "cell_type": "code",
      "execution_count": null,
      "id": "70a8e21e-f374-4e19-a2a1-6b6fc732bdce",
      "metadata": {
        "id": "70a8e21e-f374-4e19-a2a1-6b6fc732bdce"
      },
      "outputs": [],
      "source": [
        "start_epoch = 0\n",
        "best_acc = 0"
      ]
    },
    {
      "cell_type": "code",
      "execution_count": null,
      "id": "9fdb57ad-a400-47b1-b36d-583b1c447086",
      "metadata": {
        "id": "9fdb57ad-a400-47b1-b36d-583b1c447086",
        "outputId": "e57a9184-8901-4a0b-e4e1-f1685ec9fa4b"
      },
      "outputs": [
        {
          "name": "stdout",
          "output_type": "stream",
          "text": [
            "==> Preparing data..\n"
          ]
        }
      ],
      "source": [
        "print('==> Preparing data..')\n",
        "transform_train = transforms.Compose([\n",
        "    transforms.RandomCrop(32, padding=4),\n",
        "    transforms.RandomHorizontalFlip(),\n",
        "    transforms.ToTensor(),\n",
        "    transforms.Normalize((0.4914, 0.4822, 0.4465), (0.2023, 0.1994, 0.2010)),\n",
        "])\n",
        "\n",
        "transform_test = transforms.Compose([\n",
        "    transforms.ToTensor(),\n",
        "    transforms.Normalize((0.4914, 0.4822, 0.4465), (0.2023, 0.1994, 0.2010)),\n",
        "])\n"
      ]
    },
    {
      "cell_type": "code",
      "execution_count": null,
      "id": "e3338aad-e23d-41a5-b983-54216f8e5635",
      "metadata": {
        "id": "e3338aad-e23d-41a5-b983-54216f8e5635",
        "outputId": "53f30a7c-66b1-47c1-c24c-aa9cbe7f31fd"
      },
      "outputs": [
        {
          "name": "stdout",
          "output_type": "stream",
          "text": [
            "Files already downloaded and verified\n"
          ]
        }
      ],
      "source": [
        "trainset = torchvision.datasets.CIFAR10(\n",
        "    root='./data', train=True, download=True, transform=transform_train)"
      ]
    },
    {
      "cell_type": "code",
      "execution_count": null,
      "id": "1f911a57-de25-4e39-8a34-b1c5c1872997",
      "metadata": {
        "id": "1f911a57-de25-4e39-8a34-b1c5c1872997",
        "outputId": "e83de03a-d910-427f-f4dc-9103e57e8c3c"
      },
      "outputs": [
        {
          "data": {
            "text/plain": [
              "Dataset CIFAR10\n",
              "    Number of datapoints: 50000\n",
              "    Root location: ./data\n",
              "    Split: Train\n",
              "    StandardTransform\n",
              "Transform: Compose(\n",
              "               RandomCrop(size=(32, 32), padding=4)\n",
              "               RandomHorizontalFlip(p=0.5)\n",
              "               ToTensor()\n",
              "               Normalize(mean=(0.4914, 0.4822, 0.4465), std=(0.2023, 0.1994, 0.201))\n",
              "           )"
            ]
          },
          "execution_count": 16,
          "metadata": {},
          "output_type": "execute_result"
        }
      ],
      "source": [
        "trainset"
      ]
    },
    {
      "cell_type": "code",
      "execution_count": null,
      "id": "cc41d0d0-af5c-46a3-b94a-053234cd9f74",
      "metadata": {
        "id": "cc41d0d0-af5c-46a3-b94a-053234cd9f74"
      },
      "outputs": [],
      "source": [
        "VALID_RATIO = 0.9\n",
        "\n",
        "n_train_examples = int(len(trainset) * VALID_RATIO)\n",
        "n_valid_examples = len(trainset) - n_train_examples\n",
        "\n",
        "train_data, valid_data = data.random_split(trainset, \n",
        "                                           [n_train_examples, n_valid_examples])"
      ]
    },
    {
      "cell_type": "code",
      "execution_count": null,
      "id": "8b1b400f-6419-459f-a53b-162b808ed6e3",
      "metadata": {
        "id": "8b1b400f-6419-459f-a53b-162b808ed6e3",
        "outputId": "835b2108-7e1c-49e2-a116-57e1dade9f06"
      },
      "outputs": [
        {
          "data": {
            "text/plain": [
              "<torch.utils.data.dataset.Subset at 0x7f6d602b9400>"
            ]
          },
          "execution_count": 20,
          "metadata": {},
          "output_type": "execute_result"
        }
      ],
      "source": [
        "train_data"
      ]
    },
    {
      "cell_type": "code",
      "execution_count": null,
      "id": "14a917b4-94a4-46c6-af04-348e499d94e9",
      "metadata": {
        "id": "14a917b4-94a4-46c6-af04-348e499d94e9",
        "outputId": "c5d41838-7afe-45f6-fb25-9ecd595f3727"
      },
      "outputs": [
        {
          "data": {
            "text/plain": [
              "<torch.utils.data.dataset.Subset at 0x7f6d602b9070>"
            ]
          },
          "execution_count": 21,
          "metadata": {},
          "output_type": "execute_result"
        }
      ],
      "source": [
        "valid_data"
      ]
    },
    {
      "cell_type": "code",
      "execution_count": null,
      "id": "1ac0c4b4-b0ae-496a-81eb-81c68fd3e434",
      "metadata": {
        "id": "1ac0c4b4-b0ae-496a-81eb-81c68fd3e434"
      },
      "outputs": [],
      "source": [
        "trainset=train_data"
      ]
    },
    {
      "cell_type": "code",
      "execution_count": null,
      "id": "a00cfce4-75c7-456e-a2f8-4ca097e2919d",
      "metadata": {
        "id": "a00cfce4-75c7-456e-a2f8-4ca097e2919d"
      },
      "outputs": [],
      "source": [
        "valset = valid_data"
      ]
    },
    {
      "cell_type": "code",
      "execution_count": null,
      "id": "3906e02d-7556-499f-a57e-b524a5e22c82",
      "metadata": {
        "id": "3906e02d-7556-499f-a57e-b524a5e22c82"
      },
      "outputs": [],
      "source": [
        "trainloader = torch.utils.data.DataLoader(\n",
        "    trainset, batch_size=128, shuffle=True, num_workers=2)"
      ]
    },
    {
      "cell_type": "code",
      "execution_count": null,
      "id": "4b1af921-5eed-4670-8a9c-4cc3b79d5b5d",
      "metadata": {
        "id": "4b1af921-5eed-4670-8a9c-4cc3b79d5b5d"
      },
      "outputs": [],
      "source": [
        "valloader = torch.utils.data.DataLoader(\n",
        "    valset, batch_size=128, shuffle=True, num_workers=2)"
      ]
    },
    {
      "cell_type": "code",
      "execution_count": null,
      "id": "24e9ac75-8935-479c-865d-cea4b6c80989",
      "metadata": {
        "id": "24e9ac75-8935-479c-865d-cea4b6c80989",
        "outputId": "03dea4ce-6c64-4800-cebd-0467328ba18c"
      },
      "outputs": [
        {
          "name": "stdout",
          "output_type": "stream",
          "text": [
            "Files already downloaded and verified\n"
          ]
        }
      ],
      "source": [
        "testset = torchvision.datasets.CIFAR10(\n",
        "    root='./data', train=False, download=True, transform=transform_test)"
      ]
    },
    {
      "cell_type": "code",
      "execution_count": null,
      "id": "6ca8cdba-ad41-41af-9fb6-d44acc55ec3c",
      "metadata": {
        "id": "6ca8cdba-ad41-41af-9fb6-d44acc55ec3c",
        "outputId": "244a029c-6138-4d87-c171-3e13dcbc012a"
      },
      "outputs": [
        {
          "data": {
            "text/plain": [
              "Dataset CIFAR10\n",
              "    Number of datapoints: 10000\n",
              "    Root location: ./data\n",
              "    Split: Test\n",
              "    StandardTransform\n",
              "Transform: Compose(\n",
              "               ToTensor()\n",
              "               Normalize(mean=(0.4914, 0.4822, 0.4465), std=(0.2023, 0.1994, 0.201))\n",
              "           )"
            ]
          },
          "execution_count": 27,
          "metadata": {},
          "output_type": "execute_result"
        }
      ],
      "source": [
        "testset"
      ]
    },
    {
      "cell_type": "code",
      "execution_count": null,
      "id": "85925983-5638-4fdf-afb7-ac458dd1b48e",
      "metadata": {
        "id": "85925983-5638-4fdf-afb7-ac458dd1b48e"
      },
      "outputs": [],
      "source": [
        "testloader = torch.utils.data.DataLoader(\n",
        "    testset, batch_size=100, shuffle=False, num_workers=2)"
      ]
    },
    {
      "cell_type": "code",
      "execution_count": null,
      "id": "afec1542-188b-4404-b100-3a165a77187b",
      "metadata": {
        "id": "afec1542-188b-4404-b100-3a165a77187b"
      },
      "outputs": [],
      "source": [
        "classes = ('plane', 'car', 'bird', 'cat', 'deer',\n",
        "           'dog', 'frog', 'horse', 'ship', 'truck')"
      ]
    },
    {
      "cell_type": "code",
      "execution_count": null,
      "id": "405399b9-f69e-4347-9b8d-20eb392cbebe",
      "metadata": {
        "id": "405399b9-f69e-4347-9b8d-20eb392cbebe"
      },
      "outputs": [],
      "source": [
        "## model to use\n",
        "class BasicBlock(nn.Module):\n",
        "    expansion = 1\n",
        "\n",
        "    def __init__(self, in_planes, planes, stride=1):\n",
        "        \"\"\"\n",
        "        in_planes: C_in for conv1 and Sequential.Conv2d\n",
        "        planes: F_i\n",
        "        \"\"\"\n",
        "        super(BasicBlock, self).__init__()\n",
        "        self.conv1 = nn.Conv2d(\n",
        "            in_planes, planes, kernel_size=3, stride=stride, padding=0, bias=False) #this is wehere the shrinking happens\n",
        "        self.bn1 = nn.BatchNorm2d(planes)\n",
        "        self.conv2 = nn.Conv2d(planes, planes, kernel_size=3,\n",
        "                               stride=1, padding=1, bias=False)\n",
        "        self.bn2 = nn.BatchNorm2d(planes)\n",
        "\n",
        "        self.shortcut = nn.Sequential()\n",
        "        #if stride != 1 or in_planes != self.expansion*planes:\n",
        "        self.shortcut = nn.Sequential(\n",
        "                nn.Conv2d(in_planes, self.expansion*planes,\n",
        "                          kernel_size=3, stride=stride, padding=0, bias=False), #padding was 1\n",
        "                nn.BatchNorm2d(self.expansion*planes)\n",
        "            )\n",
        "\n",
        "    def forward(self, x):\n",
        "        out = F.relu(self.bn1(self.conv1(x)))\n",
        "        out = self.bn2(self.conv2(out))\n",
        "        out += self.shortcut(x)\n",
        "        out = F.relu(out)\n",
        "        return out\n",
        "\n",
        "\n",
        "class Bottleneck(nn.Module):\n",
        "    expansion = 4\n",
        "\n",
        "    def __init__(self, in_planes, planes, stride=1):\n",
        "        super(Bottleneck, self).__init__()\n",
        "        self.conv1 = nn.Conv2d(in_planes, planes, kernel_size=1, bias=False)\n",
        "        self.bn1 = nn.BatchNorm2d(planes)\n",
        "        self.conv2 = nn.Conv2d(planes, planes, kernel_size=3,\n",
        "                               stride=stride, padding=1, bias=False)\n",
        "        self.bn2 = nn.BatchNorm2d(planes)\n",
        "        self.conv3 = nn.Conv2d(planes, self.expansion *\n",
        "                               planes, kernel_size=1, bias=False)\n",
        "        self.bn3 = nn.BatchNorm2d(self.expansion*planes)\n",
        "\n",
        "        self.shortcut = nn.Sequential()\n",
        "        if stride != 1 or in_planes != self.expansion*planes:\n",
        "            self.shortcut = nn.Sequential(\n",
        "                nn.Conv2d(in_planes, self.expansion*planes,\n",
        "                          kernel_size=1, stride=stride, bias=False),\n",
        "                nn.BatchNorm2d(self.expansion*planes)\n",
        "            )\n",
        "\n",
        "    def forward(self, x):\n",
        "        out = F.relu(self.bn1(self.conv1(x)))\n",
        "        out = F.relu(self.bn2(self.conv2(out)))\n",
        "        out = self.bn3(self.conv3(out))\n",
        "        out += self.shortcut(x)\n",
        "        out = F.relu(out)\n",
        "        return out\n",
        "\n",
        "\n",
        "class ResNet(nn.Module):\n",
        "    def __init__(self, block, num_blocks,  num_classes=10):\n",
        "        super(ResNet, self).__init__()\n",
        "        self.in_planes = 32\n",
        "        \"\"\"\n",
        "        in_planes: C_out of layer1\n",
        "        \"\"\"\n",
        "        self.conv1 = nn.Conv2d(3, 32, kernel_size=3,\n",
        "                               stride=1, padding=1, bias=False)\n",
        "        self.bn1 = nn.BatchNorm2d(32)\n",
        "        self.layer1 = self._make_layer(block, 32, num_blocks[0], stride=1)\n",
        "        self.layer2 = self._make_layer(block, 64, num_blocks[1], stride=1)\n",
        "        self.layer3 = self._make_layer(block, 128, num_blocks[2], stride=1)\n",
        "        self.layer4 = self._make_layer(block, 256, num_blocks[3], stride=2)\n",
        "        self.linear = nn.Linear(256*block.expansion, num_classes)\n",
        "\n",
        "    def _make_layer(self, block, planes, num_blocks, stride):\n",
        "        strides = [stride] + [1]*(num_blocks-1)\n",
        "        layers = []\n",
        "        for stride in strides:\n",
        "            layers.append(block(self.in_planes, planes, stride))\n",
        "            self.in_planes = planes * block.expansion\n",
        "            \"\"\"\n",
        "            in_planes becomes the output of the current layer\n",
        "            \"\"\"\n",
        "        return nn.Sequential(*layers)\n",
        "\n",
        "    def forward(self, x):\n",
        "        out = F.relu(self.bn1(self.conv1(x)))\n",
        "        out = self.layer1(out)\n",
        "        out = self.layer2(out)\n",
        "        out = self.layer3(out)\n",
        "        out = self.layer4(out)\n",
        "        out = F.avg_pool2d(out, 7) # to be understood\n",
        "        out = out.view(out.size(0), -1)\n",
        "        out = self.linear(out)\n",
        "        return out\n",
        "\n",
        "\n",
        "def ResNet18():\n",
        "    return ResNet(BasicBlock, [2, 2, 2, 2])\n",
        "\n",
        "\n",
        "def ResNet34():\n",
        "    return ResNet(BasicBlock, [3, 4, 6, 3])\n",
        "\n",
        "\n",
        "def ResNet50():\n",
        "    return ResNet(Bottleneck, [3, 4, 6, 3])\n",
        "\n",
        "\n",
        "def ResNet101():\n",
        "    return ResNet(Bottleneck, [3, 4, 23, 3])\n",
        "\n",
        "\n",
        "def ResNet152():\n",
        "    return ResNet(Bottleneck, [3, 8, 36, 3])\n",
        "\n",
        "\n",
        "def test():\n",
        "    net = ResNet18()\n",
        "    y = net(torch.randn(1, 3, 32, 32))\n",
        "    print(y.size())"
      ]
    },
    {
      "cell_type": "code",
      "execution_count": null,
      "id": "77265181-9721-4b74-bf4a-b877d9ea1daa",
      "metadata": {
        "id": "77265181-9721-4b74-bf4a-b877d9ea1daa",
        "outputId": "fabce348-4c53-4284-bffb-18afbf7b7ac9"
      },
      "outputs": [
        {
          "name": "stdout",
          "output_type": "stream",
          "text": [
            "==> Building model..\n"
          ]
        }
      ],
      "source": [
        "print('==> Building model..')\n",
        "net = ResNet18()\n",
        "net = net.to(device)"
      ]
    },
    {
      "cell_type": "code",
      "execution_count": null,
      "id": "b8224ef6-83bc-4663-83c6-91ccb58a350a",
      "metadata": {
        "id": "b8224ef6-83bc-4663-83c6-91ccb58a350a",
        "outputId": "900f770a-923d-46f2-d0c1-17c26a80a779"
      },
      "outputs": [
        {
          "name": "stdout",
          "output_type": "stream",
          "text": [
            "----------------------------------------------------------------\n",
            "        Layer (type)               Output Shape         Param #\n",
            "================================================================\n",
            "            Conv2d-1           [-1, 32, 32, 32]             864\n",
            "       BatchNorm2d-2           [-1, 32, 32, 32]              64\n",
            "            Conv2d-3           [-1, 32, 30, 30]           9,216\n",
            "       BatchNorm2d-4           [-1, 32, 30, 30]              64\n",
            "            Conv2d-5           [-1, 32, 30, 30]           9,216\n",
            "       BatchNorm2d-6           [-1, 32, 30, 30]              64\n",
            "            Conv2d-7           [-1, 32, 30, 30]           9,216\n",
            "       BatchNorm2d-8           [-1, 32, 30, 30]              64\n",
            "        BasicBlock-9           [-1, 32, 30, 30]               0\n",
            "           Conv2d-10           [-1, 32, 28, 28]           9,216\n",
            "      BatchNorm2d-11           [-1, 32, 28, 28]              64\n",
            "           Conv2d-12           [-1, 32, 28, 28]           9,216\n",
            "      BatchNorm2d-13           [-1, 32, 28, 28]              64\n",
            "           Conv2d-14           [-1, 32, 28, 28]           9,216\n",
            "      BatchNorm2d-15           [-1, 32, 28, 28]              64\n",
            "       BasicBlock-16           [-1, 32, 28, 28]               0\n",
            "           Conv2d-17           [-1, 64, 26, 26]          18,432\n",
            "      BatchNorm2d-18           [-1, 64, 26, 26]             128\n",
            "           Conv2d-19           [-1, 64, 26, 26]          36,864\n",
            "      BatchNorm2d-20           [-1, 64, 26, 26]             128\n",
            "           Conv2d-21           [-1, 64, 26, 26]          18,432\n",
            "      BatchNorm2d-22           [-1, 64, 26, 26]             128\n",
            "       BasicBlock-23           [-1, 64, 26, 26]               0\n",
            "           Conv2d-24           [-1, 64, 24, 24]          36,864\n",
            "      BatchNorm2d-25           [-1, 64, 24, 24]             128\n",
            "           Conv2d-26           [-1, 64, 24, 24]          36,864\n",
            "      BatchNorm2d-27           [-1, 64, 24, 24]             128\n",
            "           Conv2d-28           [-1, 64, 24, 24]          36,864\n",
            "      BatchNorm2d-29           [-1, 64, 24, 24]             128\n",
            "       BasicBlock-30           [-1, 64, 24, 24]               0\n",
            "           Conv2d-31          [-1, 128, 22, 22]          73,728\n",
            "      BatchNorm2d-32          [-1, 128, 22, 22]             256\n",
            "           Conv2d-33          [-1, 128, 22, 22]         147,456\n",
            "      BatchNorm2d-34          [-1, 128, 22, 22]             256\n",
            "           Conv2d-35          [-1, 128, 22, 22]          73,728\n",
            "      BatchNorm2d-36          [-1, 128, 22, 22]             256\n",
            "       BasicBlock-37          [-1, 128, 22, 22]               0\n",
            "           Conv2d-38          [-1, 128, 20, 20]         147,456\n",
            "      BatchNorm2d-39          [-1, 128, 20, 20]             256\n",
            "           Conv2d-40          [-1, 128, 20, 20]         147,456\n",
            "      BatchNorm2d-41          [-1, 128, 20, 20]             256\n",
            "           Conv2d-42          [-1, 128, 20, 20]         147,456\n",
            "      BatchNorm2d-43          [-1, 128, 20, 20]             256\n",
            "       BasicBlock-44          [-1, 128, 20, 20]               0\n",
            "           Conv2d-45            [-1, 256, 9, 9]         294,912\n",
            "      BatchNorm2d-46            [-1, 256, 9, 9]             512\n",
            "           Conv2d-47            [-1, 256, 9, 9]         589,824\n",
            "      BatchNorm2d-48            [-1, 256, 9, 9]             512\n",
            "           Conv2d-49            [-1, 256, 9, 9]         294,912\n",
            "      BatchNorm2d-50            [-1, 256, 9, 9]             512\n",
            "       BasicBlock-51            [-1, 256, 9, 9]               0\n",
            "           Conv2d-52            [-1, 256, 7, 7]         589,824\n",
            "      BatchNorm2d-53            [-1, 256, 7, 7]             512\n",
            "           Conv2d-54            [-1, 256, 7, 7]         589,824\n",
            "      BatchNorm2d-55            [-1, 256, 7, 7]             512\n",
            "           Conv2d-56            [-1, 256, 7, 7]         589,824\n",
            "      BatchNorm2d-57            [-1, 256, 7, 7]             512\n",
            "       BasicBlock-58            [-1, 256, 7, 7]               0\n",
            "           Linear-59                   [-1, 10]           2,570\n",
            "================================================================\n",
            "Total params: 3,935,274\n",
            "Trainable params: 3,935,274\n",
            "Non-trainable params: 0\n",
            "----------------------------------------------------------------\n",
            "Input size (MB): 0.01\n",
            "Forward/backward pass size (MB): 15.48\n",
            "Params size (MB): 15.01\n",
            "Estimated Total Size (MB): 30.50\n",
            "----------------------------------------------------------------\n"
          ]
        }
      ],
      "source": [
        "## For our model\n",
        "from torchsummary import summary\n",
        "summary(net, input_size=(3, 32, 32))"
      ]
    },
    {
      "cell_type": "code",
      "execution_count": null,
      "id": "fa466e14-a159-4648-b890-00890d0ddf4c",
      "metadata": {
        "id": "fa466e14-a159-4648-b890-00890d0ddf4c",
        "outputId": "88cd6457-5779-479d-f29a-7f6aa6fcfe3d"
      },
      "outputs": [
        {
          "name": "stdout",
          "output_type": "stream",
          "text": [
            "Requirement already satisfied: torch-summary in /home/studio-lab-user/.conda/envs/default/lib/python3.9/site-packages (1.4.5)\n"
          ]
        }
      ],
      "source": [
        "!pip install torch-summary"
      ]
    },
    {
      "cell_type": "code",
      "execution_count": null,
      "id": "ce8ed088-442d-42f1-ad45-a6f0b0435a16",
      "metadata": {
        "id": "ce8ed088-442d-42f1-ad45-a6f0b0435a16"
      },
      "outputs": [],
      "source": [
        "#original model only for reference\n",
        "class BasicBlock(nn.Module):\n",
        "    expansion = 1\n",
        "\n",
        "    def __init__(self, in_planes, planes, stride=1):\n",
        "        super(BasicBlock, self).__init__()\n",
        "        self.conv1 = nn.Conv2d(\n",
        "            in_planes, planes, kernel_size=3, stride=stride, padding=1, bias=False)\n",
        "        self.bn1 = nn.BatchNorm2d(planes)\n",
        "        self.conv2 = nn.Conv2d(planes, planes, kernel_size=3,\n",
        "                               stride=1, padding=1, bias=False)\n",
        "        self.bn2 = nn.BatchNorm2d(planes)\n",
        "\n",
        "        self.shortcut = nn.Sequential()\n",
        "        if stride != 1 or in_planes != self.expansion*planes:\n",
        "            self.shortcut = nn.Sequential(\n",
        "                nn.Conv2d(in_planes, self.expansion*planes,\n",
        "                          kernel_size=1, stride=stride, bias=False),\n",
        "                nn.BatchNorm2d(self.expansion*planes)\n",
        "            )\n",
        "\n",
        "    def forward(self, x):\n",
        "        out = F.relu(self.bn1(self.conv1(x)))\n",
        "        out = self.bn2(self.conv2(out))\n",
        "        out += self.shortcut(x)\n",
        "        out = F.relu(out)\n",
        "        return out\n",
        "\n",
        "\n",
        "class Bottleneck(nn.Module):\n",
        "    expansion = 4\n",
        "\n",
        "    def __init__(self, in_planes, planes, stride=1):\n",
        "        super(Bottleneck, self).__init__()\n",
        "        self.conv1 = nn.Conv2d(in_planes, planes, kernel_size=1, bias=False)\n",
        "        self.bn1 = nn.BatchNorm2d(planes)\n",
        "        self.conv2 = nn.Conv2d(planes, planes, kernel_size=3,\n",
        "                               stride=stride, padding=1, bias=False)\n",
        "        self.bn2 = nn.BatchNorm2d(planes)\n",
        "        self.conv3 = nn.Conv2d(planes, self.expansion *\n",
        "                               planes, kernel_size=1, bias=False)\n",
        "        self.bn3 = nn.BatchNorm2d(self.expansion*planes)\n",
        "\n",
        "        self.shortcut = nn.Sequential()\n",
        "        if stride != 1 or in_planes != self.expansion*planes:\n",
        "            self.shortcut = nn.Sequential(\n",
        "                nn.Conv2d(in_planes, self.expansion*planes,\n",
        "                          kernel_size=1, stride=stride, bias=False),\n",
        "                nn.BatchNorm2d(self.expansion*planes)\n",
        "            )\n",
        "\n",
        "    def forward(self, x):\n",
        "        out = F.relu(self.bn1(self.conv1(x)))\n",
        "        out = F.relu(self.bn2(self.conv2(out)))\n",
        "        out = self.bn3(self.conv3(out))\n",
        "        out += self.shortcut(x)\n",
        "        out = F.relu(out)\n",
        "        return out\n",
        "\n",
        "\n",
        "class ResNet(nn.Module):\n",
        "    def __init__(self, block, num_blocks, num_classes=10):\n",
        "        super(ResNet, self).__init__()\n",
        "        self.in_planes = 64\n",
        "\n",
        "        self.conv1 = nn.Conv2d(3, 64, kernel_size=3,\n",
        "                               stride=1, padding=1, bias=False)\n",
        "        self.bn1 = nn.BatchNorm2d(64)\n",
        "        self.layer1 = self._make_layer(block, 64, num_blocks[0], stride=1)\n",
        "        self.layer2 = self._make_layer(block, 128, num_blocks[1], stride=2)\n",
        "        self.layer3 = self._make_layer(block, 256, num_blocks[2], stride=2)\n",
        "        self.layer4 = self._make_layer(block, 512, num_blocks[3], stride=2)\n",
        "        self.linear = nn.Linear(512*block.expansion, num_classes)\n",
        "\n",
        "    def _make_layer(self, block, planes, num_blocks, stride):\n",
        "        strides = [stride] + [1]*(num_blocks-1)\n",
        "        layers = []\n",
        "        for stride in strides:\n",
        "            layers.append(block(self.in_planes, planes, stride))\n",
        "            self.in_planes = planes * block.expansion\n",
        "        return nn.Sequential(*layers)\n",
        "\n",
        "    def forward(self, x):\n",
        "        out = F.relu(self.bn1(self.conv1(x)))\n",
        "        out = self.layer1(out)\n",
        "        out = self.layer2(out)\n",
        "        out = self.layer3(out)\n",
        "        out = self.layer4(out)\n",
        "        out = F.avg_pool2d(out, 4)  # same as the last layer's HxW\n",
        "        out = out.view(out.size(0), -1)\n",
        "        out = self.linear(out)\n",
        "        return out\n",
        "\n",
        "\n",
        "def ResNet18():\n",
        "    return ResNet(BasicBlock, [2, 2, 2, 2])"
      ]
    },
    {
      "cell_type": "code",
      "execution_count": null,
      "id": "312ac932-4c35-48bf-8eeb-936a42ba6be0",
      "metadata": {
        "id": "312ac932-4c35-48bf-8eeb-936a42ba6be0",
        "outputId": "4ac5b1d3-ad33-43f0-8623-3b4914e6be7d"
      },
      "outputs": [
        {
          "name": "stdout",
          "output_type": "stream",
          "text": [
            "----------------------------------------------------------------\n",
            "        Layer (type)               Output Shape         Param #\n",
            "================================================================\n",
            "            Conv2d-1           [-1, 64, 32, 32]           1,728\n",
            "       BatchNorm2d-2           [-1, 64, 32, 32]             128\n",
            "            Conv2d-3           [-1, 64, 32, 32]          36,864\n",
            "       BatchNorm2d-4           [-1, 64, 32, 32]             128\n",
            "            Conv2d-5           [-1, 64, 32, 32]          36,864\n",
            "       BatchNorm2d-6           [-1, 64, 32, 32]             128\n",
            "        BasicBlock-7           [-1, 64, 32, 32]               0\n",
            "            Conv2d-8           [-1, 64, 32, 32]          36,864\n",
            "       BatchNorm2d-9           [-1, 64, 32, 32]             128\n",
            "           Conv2d-10           [-1, 64, 32, 32]          36,864\n",
            "      BatchNorm2d-11           [-1, 64, 32, 32]             128\n",
            "       BasicBlock-12           [-1, 64, 32, 32]               0\n",
            "           Conv2d-13          [-1, 128, 16, 16]          73,728\n",
            "      BatchNorm2d-14          [-1, 128, 16, 16]             256\n",
            "           Conv2d-15          [-1, 128, 16, 16]         147,456\n",
            "      BatchNorm2d-16          [-1, 128, 16, 16]             256\n",
            "           Conv2d-17          [-1, 128, 16, 16]           8,192\n",
            "      BatchNorm2d-18          [-1, 128, 16, 16]             256\n",
            "       BasicBlock-19          [-1, 128, 16, 16]               0\n",
            "           Conv2d-20          [-1, 128, 16, 16]         147,456\n",
            "      BatchNorm2d-21          [-1, 128, 16, 16]             256\n",
            "           Conv2d-22          [-1, 128, 16, 16]         147,456\n",
            "      BatchNorm2d-23          [-1, 128, 16, 16]             256\n",
            "       BasicBlock-24          [-1, 128, 16, 16]               0\n",
            "           Conv2d-25            [-1, 256, 8, 8]         294,912\n",
            "      BatchNorm2d-26            [-1, 256, 8, 8]             512\n",
            "           Conv2d-27            [-1, 256, 8, 8]         589,824\n",
            "      BatchNorm2d-28            [-1, 256, 8, 8]             512\n",
            "           Conv2d-29            [-1, 256, 8, 8]          32,768\n",
            "      BatchNorm2d-30            [-1, 256, 8, 8]             512\n",
            "       BasicBlock-31            [-1, 256, 8, 8]               0\n",
            "           Conv2d-32            [-1, 256, 8, 8]         589,824\n",
            "      BatchNorm2d-33            [-1, 256, 8, 8]             512\n",
            "           Conv2d-34            [-1, 256, 8, 8]         589,824\n",
            "      BatchNorm2d-35            [-1, 256, 8, 8]             512\n",
            "       BasicBlock-36            [-1, 256, 8, 8]               0\n",
            "           Conv2d-37            [-1, 512, 4, 4]       1,179,648\n",
            "      BatchNorm2d-38            [-1, 512, 4, 4]           1,024\n",
            "           Conv2d-39            [-1, 512, 4, 4]       2,359,296\n",
            "      BatchNorm2d-40            [-1, 512, 4, 4]           1,024\n",
            "           Conv2d-41            [-1, 512, 4, 4]         131,072\n",
            "      BatchNorm2d-42            [-1, 512, 4, 4]           1,024\n",
            "       BasicBlock-43            [-1, 512, 4, 4]               0\n",
            "           Conv2d-44            [-1, 512, 4, 4]       2,359,296\n",
            "      BatchNorm2d-45            [-1, 512, 4, 4]           1,024\n",
            "           Conv2d-46            [-1, 512, 4, 4]       2,359,296\n",
            "      BatchNorm2d-47            [-1, 512, 4, 4]           1,024\n",
            "       BasicBlock-48            [-1, 512, 4, 4]               0\n",
            "           Linear-49                   [-1, 10]           5,130\n",
            "================================================================\n",
            "Total params: 11,173,962\n",
            "Trainable params: 11,173,962\n",
            "Non-trainable params: 0\n",
            "----------------------------------------------------------------\n",
            "Input size (MB): 0.01\n",
            "Forward/backward pass size (MB): 11.25\n",
            "Params size (MB): 42.63\n",
            "Estimated Total Size (MB): 53.89\n",
            "----------------------------------------------------------------\n"
          ]
        }
      ],
      "source": [
        "originalNet = ResNet18()\n",
        "summary(originalNet, input_size=(3, 32, 32))"
      ]
    },
    {
      "cell_type": "code",
      "execution_count": null,
      "id": "b2fee59c-356e-4823-9f55-1730dc72958d",
      "metadata": {
        "id": "b2fee59c-356e-4823-9f55-1730dc72958d",
        "outputId": "61c82efb-130e-4013-be4a-538345d8e26f"
      },
      "outputs": [
        {
          "name": "stdout",
          "output_type": "stream",
          "text": [
            "----------------------------------------------------------------\n",
            "        Layer (type)               Output Shape         Param #\n",
            "================================================================\n",
            "            Conv2d-1           [-1, 32, 32, 32]             864\n",
            "       BatchNorm2d-2           [-1, 32, 32, 32]              64\n",
            "            Conv2d-3           [-1, 32, 32, 32]           9,216\n",
            "       BatchNorm2d-4           [-1, 32, 32, 32]              64\n",
            "            Conv2d-5           [-1, 32, 32, 32]           9,216\n",
            "       BatchNorm2d-6           [-1, 32, 32, 32]              64\n",
            "        BasicBlock-7           [-1, 32, 32, 32]               0\n",
            "            Conv2d-8           [-1, 32, 32, 32]           9,216\n",
            "       BatchNorm2d-9           [-1, 32, 32, 32]              64\n",
            "           Conv2d-10           [-1, 32, 32, 32]           9,216\n",
            "      BatchNorm2d-11           [-1, 32, 32, 32]              64\n",
            "       BasicBlock-12           [-1, 32, 32, 32]               0\n",
            "           Conv2d-13           [-1, 64, 32, 32]          18,432\n",
            "      BatchNorm2d-14           [-1, 64, 32, 32]             128\n",
            "           Conv2d-15           [-1, 64, 32, 32]          36,864\n",
            "      BatchNorm2d-16           [-1, 64, 32, 32]             128\n",
            "           Conv2d-17           [-1, 64, 32, 32]          18,432\n",
            "      BatchNorm2d-18           [-1, 64, 32, 32]             128\n",
            "       BasicBlock-19           [-1, 64, 32, 32]               0\n",
            "           Conv2d-20           [-1, 64, 32, 32]          36,864\n",
            "      BatchNorm2d-21           [-1, 64, 32, 32]             128\n",
            "           Conv2d-22           [-1, 64, 32, 32]          36,864\n",
            "      BatchNorm2d-23           [-1, 64, 32, 32]             128\n",
            "       BasicBlock-24           [-1, 64, 32, 32]               0\n",
            "           Conv2d-25          [-1, 128, 32, 32]          73,728\n",
            "      BatchNorm2d-26          [-1, 128, 32, 32]             256\n",
            "           Conv2d-27          [-1, 128, 32, 32]         147,456\n",
            "      BatchNorm2d-28          [-1, 128, 32, 32]             256\n",
            "           Conv2d-29          [-1, 128, 32, 32]          73,728\n",
            "      BatchNorm2d-30          [-1, 128, 32, 32]             256\n",
            "       BasicBlock-31          [-1, 128, 32, 32]               0\n",
            "           Conv2d-32          [-1, 128, 32, 32]         147,456\n",
            "      BatchNorm2d-33          [-1, 128, 32, 32]             256\n",
            "           Conv2d-34          [-1, 128, 32, 32]         147,456\n",
            "      BatchNorm2d-35          [-1, 128, 32, 32]             256\n",
            "       BasicBlock-36          [-1, 128, 32, 32]               0\n",
            "           Conv2d-37          [-1, 256, 32, 32]         294,912\n",
            "      BatchNorm2d-38          [-1, 256, 32, 32]             512\n",
            "           Conv2d-39          [-1, 256, 32, 32]         589,824\n",
            "      BatchNorm2d-40          [-1, 256, 32, 32]             512\n",
            "           Conv2d-41          [-1, 256, 32, 32]         294,912\n",
            "      BatchNorm2d-42          [-1, 256, 32, 32]             512\n",
            "       BasicBlock-43          [-1, 256, 32, 32]               0\n",
            "           Conv2d-44          [-1, 256, 32, 32]         589,824\n",
            "      BatchNorm2d-45          [-1, 256, 32, 32]             512\n",
            "           Conv2d-46          [-1, 256, 32, 32]         589,824\n",
            "      BatchNorm2d-47          [-1, 256, 32, 32]             512\n",
            "       BasicBlock-48          [-1, 256, 32, 32]               0\n",
            "           Linear-49                   [-1, 10]           2,570\n",
            "================================================================\n",
            "Total params: 3,141,674\n",
            "Trainable params: 3,141,674\n",
            "Non-trainable params: 0\n",
            "----------------------------------------------------------------\n",
            "Input size (MB): 0.01\n",
            "Forward/backward pass size (MB): 45.00\n",
            "Params size (MB): 11.98\n",
            "Estimated Total Size (MB): 57.00\n",
            "----------------------------------------------------------------\n"
          ]
        }
      ],
      "source": [
        "## For our model\n",
        "from torchsummary import summary\n",
        "summary(net, input_size=(3, 32, 32))"
      ]
    },
    {
      "cell_type": "code",
      "execution_count": null,
      "id": "7f0f1fa3-ccf1-4d27-9b5b-33e1f979f9d5",
      "metadata": {
        "id": "7f0f1fa3-ccf1-4d27-9b5b-33e1f979f9d5",
        "outputId": "371d93b1-4566-4203-c170-87ad9fe54165"
      },
      "outputs": [
        {
          "data": {
            "text/plain": [
              "'cuda'"
            ]
          },
          "execution_count": 69,
          "metadata": {},
          "output_type": "execute_result"
        }
      ],
      "source": [
        "device"
      ]
    },
    {
      "cell_type": "code",
      "execution_count": null,
      "id": "11b9ddac-9903-4b60-bc43-c7575505c686",
      "metadata": {
        "id": "11b9ddac-9903-4b60-bc43-c7575505c686"
      },
      "outputs": [],
      "source": [
        "if device == 'cuda':\n",
        "    net = torch.nn.DataParallel(net)\n",
        "    cudnn.benchmark = True"
      ]
    },
    {
      "cell_type": "code",
      "execution_count": null,
      "id": "5654e62c-fdca-4005-87d5-c626b83a5c0d",
      "metadata": {
        "id": "5654e62c-fdca-4005-87d5-c626b83a5c0d"
      },
      "outputs": [],
      "source": [
        "resume = False\n",
        "if resume == True:\n",
        "    # Load checkpoint.\n",
        "    print('==> Resuming from checkpoint..')\n",
        "    assert os.path.isdir('checkpoint'), 'Error: no checkpoint directory found!'\n",
        "    checkpoint = torch.load('./checkpoint/ckpt.pth')\n",
        "    net.load_state_dict(checkpoint['net'])\n",
        "    best_acc = checkpoint['acc']\n",
        "    start_epoch = checkpoint['epoch']"
      ]
    },
    {
      "cell_type": "code",
      "execution_count": null,
      "id": "e666fc97-7784-4cdd-ac4d-ada985110509",
      "metadata": {
        "id": "e666fc97-7784-4cdd-ac4d-ada985110509"
      },
      "outputs": [],
      "source": [
        "criterion = nn.CrossEntropyLoss()\n",
        "optimizer = optim.SGD(net.parameters(), lr=0.0005,\n",
        "                      momentum=0.9, weight_decay=5e-4)\n",
        "scheduler = torch.optim.lr_scheduler.CosineAnnealingLR(optimizer, T_max=200)"
      ]
    },
    {
      "cell_type": "code",
      "execution_count": null,
      "id": "5c447abe-7a21-48c9-97ed-275e5764c6b0",
      "metadata": {
        "id": "5c447abe-7a21-48c9-97ed-275e5764c6b0",
        "outputId": "724b206c-8a84-4dcb-cb33-4dca303f146b"
      },
      "outputs": [
        {
          "name": "stdout",
          "output_type": "stream",
          "text": [
            "Requirement already satisfied: tqdm in /home/studio-lab-user/.conda/envs/default/lib/python3.9/site-packages (4.64.1)\n"
          ]
        }
      ],
      "source": [
        "!pip install tqdm"
      ]
    },
    {
      "cell_type": "code",
      "execution_count": null,
      "id": "67dd76ba-2d61-4893-b3dc-49ae62d09e05",
      "metadata": {
        "id": "67dd76ba-2d61-4893-b3dc-49ae62d09e05"
      },
      "outputs": [],
      "source": [
        "from tqdm import tqdm"
      ]
    },
    {
      "cell_type": "code",
      "execution_count": null,
      "id": "15511c65-995d-442b-9010-09c82ac28c1c",
      "metadata": {
        "id": "15511c65-995d-442b-9010-09c82ac28c1c",
        "outputId": "1b3afc24-0f9c-44c9-ad30-4fe8e5e555a2"
      },
      "outputs": [
        {
          "data": {
            "text/plain": [
              "352"
            ]
          },
          "execution_count": 165,
          "metadata": {},
          "output_type": "execute_result"
        }
      ],
      "source": [
        "len(trainloader)"
      ]
    },
    {
      "cell_type": "code",
      "execution_count": null,
      "id": "20fb231a-c978-4bfd-a4e3-be6cba4a8c70",
      "metadata": {
        "id": "20fb231a-c978-4bfd-a4e3-be6cba4a8c70"
      },
      "outputs": [],
      "source": [
        "# Training\n",
        "def train(epoch):\n",
        "    print('\\nEpoch: %d' % epoch)\n",
        "    net.train()\n",
        "    train_loss = 0\n",
        "    correct = 0\n",
        "    total = 0\n",
        "    steps = 0\n",
        "    for batch_idx, (inputs, targets) in enumerate(trainloader):\n",
        "        steps = steps+1\n",
        "        inputs, targets = inputs.to(device), targets.to(device)\n",
        "        optimizer.zero_grad()\n",
        "        outputs = net(inputs)\n",
        "        loss = criterion(outputs, targets)\n",
        "        loss.backward()\n",
        "        optimizer.step()\n",
        "\n",
        "        train_loss += loss.item()\n",
        "        _, predicted = outputs.max(1)\n",
        "        total += targets.size(0)\n",
        "        correct += predicted.eq(targets).sum().item()\n",
        "\n",
        "        #progress_bar(batch_idx, len(trainloader), 'Loss: %.3f | Acc: %.3f%% (%d/%d)'\n",
        "        #             % (train_loss/(batch_idx+1), 100.*correct/total, correct, total))\n",
        "        if steps%87==0:\n",
        "            print(f\"Epoch:{epoch} --Progress(%):{batch_idx/len(trainloader)*100.:.2f}-- Loss:{train_loss/(batch_idx+1):.2f} -- Acc:{100.*correct/total:.2f}\")\n",
        "\n"
      ]
    },
    {
      "cell_type": "code",
      "execution_count": null,
      "id": "e401698b-798c-42b0-99e3-438ddcd89b47",
      "metadata": {
        "id": "e401698b-798c-42b0-99e3-438ddcd89b47"
      },
      "outputs": [],
      "source": [
        "def val(epoch):\n",
        "    global best_acc\n",
        "    net.eval()\n",
        "    val_loss = 0\n",
        "    correct = 0\n",
        "    total = 0\n",
        "    with torch.no_grad():\n",
        "        for batch_idx, (inputs, targets) in enumerate(valloader):\n",
        "            inputs, targets = inputs.to(device), targets.to(device)\n",
        "            outputs = net(inputs)\n",
        "            loss = criterion(outputs, targets)\n",
        "\n",
        "            val_loss += loss.item()\n",
        "            _, predicted = outputs.max(1)\n",
        "            total += targets.size(0)\n",
        "            correct += predicted.eq(targets).sum().item()\n",
        "\n",
        "            #progress_bar(batch_idx, len(testloader), 'Loss: %.3f | Acc: %.3f%% (%d/%d)'\n",
        "            #             % (test_loss/(batch_idx+1), 100.*correct/total, correct, total))\n",
        "    print(f\"Epoch:{epoch} --Val Loss:{val_loss/(batch_idx+1):.2f} -- Acc:{100.*correct/total:.2f}\")\n",
        "            \n",
        "    # Save checkpoint.\n",
        "    acc = 100.*correct/total\n",
        "    if acc > best_acc:\n",
        "        print('Saving the best model.')\n",
        "        #state = {\n",
        "        #    'net': net.state_dict(),\n",
        "        #    'acc': acc,\n",
        "        #    'epoch': epoch,\n",
        "        #}\n",
        "        if not os.path.isdir('checkpoint'):\n",
        "            os.mkdir('checkpoint')\n",
        "        #torch.save(state, './checkpoint/ckpt.pth')\n",
        "        \n",
        "        torch.save(net.state_dict(), './checkpoint/ckpt.pth')\n",
        "        best_acc = acc"
      ]
    },
    {
      "cell_type": "code",
      "execution_count": null,
      "id": "b5cfb159-d153-41f3-b0e8-386264c8c939",
      "metadata": {
        "id": "b5cfb159-d153-41f3-b0e8-386264c8c939"
      },
      "outputs": [],
      "source": [
        "def test(epoch):\n",
        "    print(\"***** Begin testing *****\")\n",
        "    net.load_state_dict(torch.load('./checkpoint/ckpt.pth'))\n",
        "    net.eval()\n",
        "    \n",
        "    test_loss = 0\n",
        "    correct = 0\n",
        "    total = 0\n",
        "    with torch.no_grad():\n",
        "        for batch_idx, (inputs, targets) in enumerate(testloader):\n",
        "            inputs, targets = inputs.to(device), targets.to(device)\n",
        "            outputs = net(inputs)\n",
        "            loss = criterion(outputs, targets)\n",
        "\n",
        "            test_loss += loss.item()\n",
        "            _, predicted = outputs.max(1)\n",
        "            total += targets.size(0)\n",
        "            correct += predicted.eq(targets).sum().item()\n",
        "\n",
        "            #progress_bar(batch_idx, len(testloader), 'Loss: %.3f | Acc: %.3f%% (%d/%d)'\n",
        "            #             % (test_loss/(batch_idx+1), 100.*correct/total, correct, total))\n",
        "    print(f\"Epoch:{epoch} --Test Loss:{test_loss/(batch_idx+1):.2f} -- Acc:{100.*correct/total:.2f}\")\n",
        "            \n",
        "    "
      ]
    },
    {
      "cell_type": "code",
      "execution_count": null,
      "id": "9150bd92-d2ea-4a25-b6cb-ea7a312e2f08",
      "metadata": {
        "id": "9150bd92-d2ea-4a25-b6cb-ea7a312e2f08",
        "outputId": "3c29f836-0cf2-40fe-cd14-607503f5ba17"
      },
      "outputs": [
        {
          "name": "stdout",
          "output_type": "stream",
          "text": [
            "\n",
            "Epoch: 0\n",
            "Epoch:0 --Progress(%):24.43-- Loss:2.14 -- Acc:19.77\n",
            "Epoch:0 --Progress(%):49.15-- Loss:2.00 -- Acc:24.86\n",
            "Epoch:0 --Progress(%):73.86-- Loss:1.92 -- Acc:28.24\n",
            "Epoch:0 --Progress(%):98.58-- Loss:1.85 -- Acc:30.92\n",
            "Epoch:0 --Val Loss:1.63 -- Acc:39.68\n",
            "\n",
            "Epoch: 1\n",
            "Epoch:1 --Progress(%):24.43-- Loss:1.60 -- Acc:40.62\n",
            "Epoch:1 --Progress(%):49.15-- Loss:1.57 -- Acc:42.17\n",
            "Epoch:1 --Progress(%):73.86-- Loss:1.54 -- Acc:43.37\n",
            "Epoch:1 --Progress(%):98.58-- Loss:1.52 -- Acc:44.43\n",
            "Epoch:1 --Val Loss:1.42 -- Acc:48.78\n",
            "\n",
            "Epoch: 2\n",
            "Epoch:2 --Progress(%):24.43-- Loss:1.39 -- Acc:49.93\n",
            "Epoch:2 --Progress(%):49.15-- Loss:1.36 -- Acc:50.71\n",
            "Epoch:2 --Progress(%):73.86-- Loss:1.34 -- Acc:51.39\n",
            "Epoch:2 --Progress(%):98.58-- Loss:1.33 -- Acc:52.11\n",
            "Epoch:2 --Val Loss:1.30 -- Acc:54.22\n",
            "\n",
            "Epoch: 3\n"
          ]
        }
      ],
      "source": [
        "for epoch in range(start_epoch, start_epoch+100):\n",
        "    train(epoch)\n",
        "    scheduler.step()\n",
        "    val(epoch)\n",
        "    \n",
        "test(epoch)"
      ]
    },
    {
      "cell_type": "code",
      "execution_count": null,
      "id": "85a0163e-a796-48f2-b133-2ae099412242",
      "metadata": {
        "id": "85a0163e-a796-48f2-b133-2ae099412242"
      },
      "outputs": [],
      "source": []
    }
  ],
  "metadata": {
    "kernelspec": {
      "display_name": "default:Python",
      "language": "python",
      "name": "conda-env-default-py"
    },
    "language_info": {
      "codemirror_mode": {
        "name": "ipython",
        "version": 3
      },
      "file_extension": ".py",
      "mimetype": "text/x-python",
      "name": "python",
      "nbconvert_exporter": "python",
      "pygments_lexer": "ipython3",
      "version": "3.9.13"
    },
    "toc-autonumbering": false,
    "toc-showcode": false,
    "toc-showmarkdowntxt": false,
    "colab": {
      "provenance": []
    }
  },
  "nbformat": 4,
  "nbformat_minor": 5
}